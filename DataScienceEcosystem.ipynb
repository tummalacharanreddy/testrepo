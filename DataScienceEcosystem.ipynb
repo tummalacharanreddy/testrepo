{
 "cells": [
  {
   "cell_type": "markdown",
   "id": "966c6551",
   "metadata": {},
   "source": [
    "# Data Science Tools and Ecosystem"
   ]
  },
  {
   "cell_type": "markdown",
   "id": "95d209d8",
   "metadata": {},
   "source": [
    "In this notebook, Data Science Tools and Ecosystem are summarized."
   ]
  },
  {
   "cell_type": "markdown",
   "id": "39573106",
   "metadata": {},
   "source": [
    "Some of the popular languages that Data Scientists use are:\n",
    "1. Python\n",
    "2. SQL\n",
    "3. R"
   ]
  },
  {
   "cell_type": "markdown",
   "id": "1928ca4d",
   "metadata": {},
   "source": [
    "Some of the commonly used libraries used by Data Scientists include:\n",
    "* Pandas\n",
    "* Seaborn\n",
    "* ggplot"
   ]
  },
  {
   "cell_type": "markdown",
   "id": "767c4a0e",
   "metadata": {},
   "source": [
    "|Data Science Tools|\n",
    "|-----------|\n",
    "|Juypter|\n",
    "|RStudio|\n",
    "|Github|"
   ]
  },
  {
   "cell_type": "markdown",
   "id": "f002405d",
   "metadata": {},
   "source": [
    "### Below are a few examples of evaluating arithmetic expressions in Python"
   ]
  },
  {
   "cell_type": "code",
   "execution_count": 2,
   "id": "24158ac8",
   "metadata": {},
   "outputs": [
    {
     "data": {
      "text/plain": [
       "17"
      ]
     },
     "execution_count": 2,
     "metadata": {},
     "output_type": "execute_result"
    }
   ],
   "source": [
    "#This a simple arithmetic expression to mutiply then add integers\n",
    "(3*4)+5"
   ]
  },
  {
   "cell_type": "code",
   "execution_count": 3,
   "id": "89b0a483",
   "metadata": {},
   "outputs": [
    {
     "data": {
      "text/plain": [
       "3.3333333333333335"
      ]
     },
     "execution_count": 3,
     "metadata": {},
     "output_type": "execute_result"
    }
   ],
   "source": [
    "# This will convert 200 minutes to hours by dividing by 60.\n",
    "200 / 60"
   ]
  },
  {
   "cell_type": "markdown",
   "id": "f7798895",
   "metadata": {},
   "source": [
    "**Objectives:**\n",
    "\n",
    "* Identify popular programming languages for Data Science\n",
    "* Understand the Jupyter Notebook environment\n",
    "* Create Markdown cells to format text\n",
    "* Create code cells to execute Python code\n",
    "* Use variables and operators in Python"
   ]
  },
  {
   "cell_type": "markdown",
   "id": "5a3863d3",
   "metadata": {},
   "source": [
    "## Author \n",
    "Charan Reddy"
   ]
  },
  {
   "cell_type": "code",
   "execution_count": null,
   "id": "51cc38b2",
   "metadata": {},
   "outputs": [],
   "source": []
  }
 ],
 "metadata": {
  "kernelspec": {
   "display_name": "Python 3 (ipykernel)",
   "language": "python",
   "name": "python3"
  },
  "language_info": {
   "codemirror_mode": {
    "name": "ipython",
    "version": 3
   },
   "file_extension": ".py",
   "mimetype": "text/x-python",
   "name": "python",
   "nbconvert_exporter": "python",
   "pygments_lexer": "ipython3",
   "version": "3.9.13"
  }
 },
 "nbformat": 4,
 "nbformat_minor": 5
}
